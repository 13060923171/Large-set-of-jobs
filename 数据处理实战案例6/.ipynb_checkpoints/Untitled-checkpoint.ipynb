{
 "cells": [
  {
   "cell_type": "code",
   "execution_count": 7,
   "metadata": {},
   "outputs": [],
   "source": [
    "import pandas as pd\n",
    "import numpy as np"
   ]
  },
  {
   "cell_type": "code",
   "execution_count": 8,
   "metadata": {},
   "outputs": [
    {
     "data": {
      "text/html": [
       "<div>\n",
       "<style scoped>\n",
       "    .dataframe tbody tr th:only-of-type {\n",
       "        vertical-align: middle;\n",
       "    }\n",
       "\n",
       "    .dataframe tbody tr th {\n",
       "        vertical-align: top;\n",
       "    }\n",
       "\n",
       "    .dataframe thead th {\n",
       "        text-align: right;\n",
       "    }\n",
       "</style>\n",
       "<table border=\"1\" class=\"dataframe\">\n",
       "  <thead>\n",
       "    <tr style=\"text-align: right;\">\n",
       "      <th></th>\n",
       "      <th>Unnamed: 0</th>\n",
       "      <th>KEY</th>\n",
       "      <th>CHROM</th>\n",
       "      <th>POS</th>\n",
       "      <th>REF</th>\n",
       "      <th>ALT</th>\n",
       "      <th>AF_ESP</th>\n",
       "      <th>AF_EXAC</th>\n",
       "      <th>AF_TGP</th>\n",
       "      <th>CLNDISDB</th>\n",
       "      <th>...</th>\n",
       "      <th>Amino_acids</th>\n",
       "      <th>Codons</th>\n",
       "      <th>STRAND</th>\n",
       "      <th>BAM_EDIT</th>\n",
       "      <th>SIFT</th>\n",
       "      <th>PolyPhen</th>\n",
       "      <th>LoFtool</th>\n",
       "      <th>CADD_PHRED</th>\n",
       "      <th>CADD_RAW</th>\n",
       "      <th>BLOSUM62</th>\n",
       "    </tr>\n",
       "  </thead>\n",
       "  <tbody>\n",
       "    <tr>\n",
       "      <td>0</td>\n",
       "      <td>0</td>\n",
       "      <td>NC_000001.10:g.1168180G&gt;C</td>\n",
       "      <td>1</td>\n",
       "      <td>1168180</td>\n",
       "      <td>G</td>\n",
       "      <td>C</td>\n",
       "      <td>0.0771</td>\n",
       "      <td>0.10020</td>\n",
       "      <td>0.1066</td>\n",
       "      <td>MedGen:CN169374</td>\n",
       "      <td>...</td>\n",
       "      <td>E/D</td>\n",
       "      <td>gaG/gaC</td>\n",
       "      <td>1.0</td>\n",
       "      <td>NaN</td>\n",
       "      <td>tolerated</td>\n",
       "      <td>benign</td>\n",
       "      <td>NaN</td>\n",
       "      <td>1.053</td>\n",
       "      <td>-0.208682</td>\n",
       "      <td>2.0</td>\n",
       "    </tr>\n",
       "    <tr>\n",
       "      <td>1</td>\n",
       "      <td>1</td>\n",
       "      <td>NC_000001.10:g.1470752G&gt;A</td>\n",
       "      <td>1</td>\n",
       "      <td>1470752</td>\n",
       "      <td>G</td>\n",
       "      <td>A</td>\n",
       "      <td>0.0000</td>\n",
       "      <td>0.00000</td>\n",
       "      <td>0.0000</td>\n",
       "      <td>MedGen:C1843891,OMIM:607454,Orphanet:ORPHA9877...</td>\n",
       "      <td>...</td>\n",
       "      <td>P/L</td>\n",
       "      <td>cCg/cTg</td>\n",
       "      <td>-1.0</td>\n",
       "      <td>OK</td>\n",
       "      <td>deleterious_low_confidence</td>\n",
       "      <td>benign</td>\n",
       "      <td>NaN</td>\n",
       "      <td>31.000</td>\n",
       "      <td>6.517838</td>\n",
       "      <td>-3.0</td>\n",
       "    </tr>\n",
       "    <tr>\n",
       "      <td>2</td>\n",
       "      <td>2</td>\n",
       "      <td>NC_000001.10:g.1737942A&gt;G</td>\n",
       "      <td>1</td>\n",
       "      <td>1737942</td>\n",
       "      <td>A</td>\n",
       "      <td>G</td>\n",
       "      <td>0.0000</td>\n",
       "      <td>0.00001</td>\n",
       "      <td>0.0000</td>\n",
       "      <td>Human_Phenotype_Ontology:HP:0000486,MedGen:C00...</td>\n",
       "      <td>...</td>\n",
       "      <td>I/T</td>\n",
       "      <td>aTc/aCc</td>\n",
       "      <td>-1.0</td>\n",
       "      <td>OK</td>\n",
       "      <td>deleterious</td>\n",
       "      <td>probably_damaging</td>\n",
       "      <td>NaN</td>\n",
       "      <td>28.100</td>\n",
       "      <td>6.061752</td>\n",
       "      <td>-1.0</td>\n",
       "    </tr>\n",
       "    <tr>\n",
       "      <td>3</td>\n",
       "      <td>3</td>\n",
       "      <td>NC_000001.10:g.2160305G&gt;A</td>\n",
       "      <td>1</td>\n",
       "      <td>2160305</td>\n",
       "      <td>G</td>\n",
       "      <td>A</td>\n",
       "      <td>0.0000</td>\n",
       "      <td>0.00000</td>\n",
       "      <td>0.0000</td>\n",
       "      <td>MedGen:C1321551,OMIM:182212,SNOMED_CT:83092002...</td>\n",
       "      <td>...</td>\n",
       "      <td>G/S</td>\n",
       "      <td>Ggc/Agc</td>\n",
       "      <td>1.0</td>\n",
       "      <td>NaN</td>\n",
       "      <td>NaN</td>\n",
       "      <td>NaN</td>\n",
       "      <td>NaN</td>\n",
       "      <td>22.500</td>\n",
       "      <td>3.114491</td>\n",
       "      <td>NaN</td>\n",
       "    </tr>\n",
       "    <tr>\n",
       "      <td>4</td>\n",
       "      <td>4</td>\n",
       "      <td>NC_000001.10:g.2160305G&gt;T</td>\n",
       "      <td>1</td>\n",
       "      <td>2160305</td>\n",
       "      <td>G</td>\n",
       "      <td>T</td>\n",
       "      <td>0.0000</td>\n",
       "      <td>0.00000</td>\n",
       "      <td>0.0000</td>\n",
       "      <td>MedGen:C1321551,OMIM:182212,SNOMED_CT:83092002</td>\n",
       "      <td>...</td>\n",
       "      <td>G/C</td>\n",
       "      <td>Ggc/Tgc</td>\n",
       "      <td>1.0</td>\n",
       "      <td>NaN</td>\n",
       "      <td>NaN</td>\n",
       "      <td>NaN</td>\n",
       "      <td>NaN</td>\n",
       "      <td>24.700</td>\n",
       "      <td>4.766224</td>\n",
       "      <td>-3.0</td>\n",
       "    </tr>\n",
       "    <tr>\n",
       "      <td>...</td>\n",
       "      <td>...</td>\n",
       "      <td>...</td>\n",
       "      <td>...</td>\n",
       "      <td>...</td>\n",
       "      <td>...</td>\n",
       "      <td>...</td>\n",
       "      <td>...</td>\n",
       "      <td>...</td>\n",
       "      <td>...</td>\n",
       "      <td>...</td>\n",
       "      <td>...</td>\n",
       "      <td>...</td>\n",
       "      <td>...</td>\n",
       "      <td>...</td>\n",
       "      <td>...</td>\n",
       "      <td>...</td>\n",
       "      <td>...</td>\n",
       "      <td>...</td>\n",
       "      <td>...</td>\n",
       "      <td>...</td>\n",
       "      <td>...</td>\n",
       "    </tr>\n",
       "    <tr>\n",
       "      <td>65183</td>\n",
       "      <td>65183</td>\n",
       "      <td>NC_000023.10:g.154158201T&gt;G</td>\n",
       "      <td>X</td>\n",
       "      <td>154158201</td>\n",
       "      <td>T</td>\n",
       "      <td>G</td>\n",
       "      <td>0.0801</td>\n",
       "      <td>0.13923</td>\n",
       "      <td>0.1605</td>\n",
       "      <td>MedGen:C0019069,OMIM:306700,SNOMED_CT:28293008...</td>\n",
       "      <td>...</td>\n",
       "      <td>S</td>\n",
       "      <td>tcA/tcC</td>\n",
       "      <td>-1.0</td>\n",
       "      <td>OK</td>\n",
       "      <td>NaN</td>\n",
       "      <td>NaN</td>\n",
       "      <td>0.00158</td>\n",
       "      <td>0.105</td>\n",
       "      <td>-0.630908</td>\n",
       "      <td>NaN</td>\n",
       "    </tr>\n",
       "    <tr>\n",
       "      <td>65184</td>\n",
       "      <td>65184</td>\n",
       "      <td>NC_000023.10:g.154159118C&gt;T</td>\n",
       "      <td>X</td>\n",
       "      <td>154159118</td>\n",
       "      <td>C</td>\n",
       "      <td>T</td>\n",
       "      <td>0.0020</td>\n",
       "      <td>0.00060</td>\n",
       "      <td>0.0013</td>\n",
       "      <td>MedGen:CN169374|MedGen:CN239152</td>\n",
       "      <td>...</td>\n",
       "      <td>V/I</td>\n",
       "      <td>Gta/Ata</td>\n",
       "      <td>-1.0</td>\n",
       "      <td>OK</td>\n",
       "      <td>tolerated</td>\n",
       "      <td>benign</td>\n",
       "      <td>0.00158</td>\n",
       "      <td>0.002</td>\n",
       "      <td>-1.731470</td>\n",
       "      <td>3.0</td>\n",
       "    </tr>\n",
       "    <tr>\n",
       "      <td>65185</td>\n",
       "      <td>65185</td>\n",
       "      <td>NC_000023.10:g.154194886C&gt;T</td>\n",
       "      <td>X</td>\n",
       "      <td>154194886</td>\n",
       "      <td>C</td>\n",
       "      <td>T</td>\n",
       "      <td>0.0125</td>\n",
       "      <td>0.00370</td>\n",
       "      <td>0.0111</td>\n",
       "      <td>MedGen:CN169374|MedGen:CN239152</td>\n",
       "      <td>...</td>\n",
       "      <td>A</td>\n",
       "      <td>gcG/gcA</td>\n",
       "      <td>-1.0</td>\n",
       "      <td>OK</td>\n",
       "      <td>NaN</td>\n",
       "      <td>NaN</td>\n",
       "      <td>0.00158</td>\n",
       "      <td>12.850</td>\n",
       "      <td>1.412434</td>\n",
       "      <td>NaN</td>\n",
       "    </tr>\n",
       "    <tr>\n",
       "      <td>65186</td>\n",
       "      <td>65186</td>\n",
       "      <td>NC_000023.10:g.154490187T&gt;C</td>\n",
       "      <td>X</td>\n",
       "      <td>154490187</td>\n",
       "      <td>T</td>\n",
       "      <td>C</td>\n",
       "      <td>0.0003</td>\n",
       "      <td>0.00034</td>\n",
       "      <td>0.0000</td>\n",
       "      <td>MedGen:C3501611,Orphanet:ORPHA777|MedGen:CN169374</td>\n",
       "      <td>...</td>\n",
       "      <td>T</td>\n",
       "      <td>acA/acG</td>\n",
       "      <td>-1.0</td>\n",
       "      <td>NaN</td>\n",
       "      <td>NaN</td>\n",
       "      <td>NaN</td>\n",
       "      <td>NaN</td>\n",
       "      <td>0.130</td>\n",
       "      <td>-0.592415</td>\n",
       "      <td>NaN</td>\n",
       "    </tr>\n",
       "    <tr>\n",
       "      <td>65187</td>\n",
       "      <td>65187</td>\n",
       "      <td>NC_000023.10:g.154508542G&gt;C</td>\n",
       "      <td>X</td>\n",
       "      <td>154508542</td>\n",
       "      <td>G</td>\n",
       "      <td>C</td>\n",
       "      <td>0.0019</td>\n",
       "      <td>0.00267</td>\n",
       "      <td>0.0008</td>\n",
       "      <td>MedGen:CN169374|MedGen:CN517202</td>\n",
       "      <td>...</td>\n",
       "      <td>P/A</td>\n",
       "      <td>Cca/Gca</td>\n",
       "      <td>-1.0</td>\n",
       "      <td>NaN</td>\n",
       "      <td>NaN</td>\n",
       "      <td>NaN</td>\n",
       "      <td>0.14000</td>\n",
       "      <td>0.046</td>\n",
       "      <td>-0.786513</td>\n",
       "      <td>-1.0</td>\n",
       "    </tr>\n",
       "  </tbody>\n",
       "</table>\n",
       "<p>65188 rows × 36 columns</p>\n",
       "</div>"
      ],
      "text/plain": [
       "       Unnamed: 0                          KEY CHROM        POS REF ALT  \\\n",
       "0               0    NC_000001.10:g.1168180G>C     1    1168180   G   C   \n",
       "1               1    NC_000001.10:g.1470752G>A     1    1470752   G   A   \n",
       "2               2    NC_000001.10:g.1737942A>G     1    1737942   A   G   \n",
       "3               3    NC_000001.10:g.2160305G>A     1    2160305   G   A   \n",
       "4               4    NC_000001.10:g.2160305G>T     1    2160305   G   T   \n",
       "...           ...                          ...   ...        ...  ..  ..   \n",
       "65183       65183  NC_000023.10:g.154158201T>G     X  154158201   T   G   \n",
       "65184       65184  NC_000023.10:g.154159118C>T     X  154159118   C   T   \n",
       "65185       65185  NC_000023.10:g.154194886C>T     X  154194886   C   T   \n",
       "65186       65186  NC_000023.10:g.154490187T>C     X  154490187   T   C   \n",
       "65187       65187  NC_000023.10:g.154508542G>C     X  154508542   G   C   \n",
       "\n",
       "       AF_ESP  AF_EXAC  AF_TGP  \\\n",
       "0      0.0771  0.10020  0.1066   \n",
       "1      0.0000  0.00000  0.0000   \n",
       "2      0.0000  0.00001  0.0000   \n",
       "3      0.0000  0.00000  0.0000   \n",
       "4      0.0000  0.00000  0.0000   \n",
       "...       ...      ...     ...   \n",
       "65183  0.0801  0.13923  0.1605   \n",
       "65184  0.0020  0.00060  0.0013   \n",
       "65185  0.0125  0.00370  0.0111   \n",
       "65186  0.0003  0.00034  0.0000   \n",
       "65187  0.0019  0.00267  0.0008   \n",
       "\n",
       "                                                CLNDISDB  ... Amino_acids  \\\n",
       "0                                        MedGen:CN169374  ...         E/D   \n",
       "1      MedGen:C1843891,OMIM:607454,Orphanet:ORPHA9877...  ...         P/L   \n",
       "2      Human_Phenotype_Ontology:HP:0000486,MedGen:C00...  ...         I/T   \n",
       "3      MedGen:C1321551,OMIM:182212,SNOMED_CT:83092002...  ...         G/S   \n",
       "4         MedGen:C1321551,OMIM:182212,SNOMED_CT:83092002  ...         G/C   \n",
       "...                                                  ...  ...         ...   \n",
       "65183  MedGen:C0019069,OMIM:306700,SNOMED_CT:28293008...  ...           S   \n",
       "65184                    MedGen:CN169374|MedGen:CN239152  ...         V/I   \n",
       "65185                    MedGen:CN169374|MedGen:CN239152  ...           A   \n",
       "65186  MedGen:C3501611,Orphanet:ORPHA777|MedGen:CN169374  ...           T   \n",
       "65187                    MedGen:CN169374|MedGen:CN517202  ...         P/A   \n",
       "\n",
       "        Codons STRAND BAM_EDIT                        SIFT           PolyPhen  \\\n",
       "0      gaG/gaC    1.0      NaN                   tolerated             benign   \n",
       "1      cCg/cTg   -1.0       OK  deleterious_low_confidence             benign   \n",
       "2      aTc/aCc   -1.0       OK                 deleterious  probably_damaging   \n",
       "3      Ggc/Agc    1.0      NaN                         NaN                NaN   \n",
       "4      Ggc/Tgc    1.0      NaN                         NaN                NaN   \n",
       "...        ...    ...      ...                         ...                ...   \n",
       "65183  tcA/tcC   -1.0       OK                         NaN                NaN   \n",
       "65184  Gta/Ata   -1.0       OK                   tolerated             benign   \n",
       "65185  gcG/gcA   -1.0       OK                         NaN                NaN   \n",
       "65186  acA/acG   -1.0      NaN                         NaN                NaN   \n",
       "65187  Cca/Gca   -1.0      NaN                         NaN                NaN   \n",
       "\n",
       "       LoFtool CADD_PHRED  CADD_RAW BLOSUM62  \n",
       "0          NaN      1.053 -0.208682      2.0  \n",
       "1          NaN     31.000  6.517838     -3.0  \n",
       "2          NaN     28.100  6.061752     -1.0  \n",
       "3          NaN     22.500  3.114491      NaN  \n",
       "4          NaN     24.700  4.766224     -3.0  \n",
       "...        ...        ...       ...      ...  \n",
       "65183  0.00158      0.105 -0.630908      NaN  \n",
       "65184  0.00158      0.002 -1.731470      3.0  \n",
       "65185  0.00158     12.850  1.412434      NaN  \n",
       "65186      NaN      0.130 -0.592415      NaN  \n",
       "65187  0.14000      0.046 -0.786513     -1.0  \n",
       "\n",
       "[65188 rows x 36 columns]"
      ]
     },
     "execution_count": 8,
     "metadata": {},
     "output_type": "execute_result"
    }
   ],
   "source": [
    "df = pd.read_csv('data.csv')\n",
    "df"
   ]
  },
  {
   "cell_type": "code",
   "execution_count": 9,
   "metadata": {},
   "outputs": [
    {
     "name": "stdout",
     "output_type": "stream",
     "text": [
      "<class 'pandas.core.frame.DataFrame'>\n",
      "RangeIndex: 65188 entries, 0 to 65187\n",
      "Data columns (total 36 columns):\n",
      "Unnamed: 0          65188 non-null int64\n",
      "KEY                 65188 non-null object\n",
      "CHROM               65188 non-null object\n",
      "POS                 65188 non-null int64\n",
      "REF                 65188 non-null object\n",
      "ALT                 65188 non-null object\n",
      "AF_ESP              65188 non-null float64\n",
      "AF_EXAC             65188 non-null float64\n",
      "AF_TGP              65188 non-null float64\n",
      "CLNDISDB            65188 non-null object\n",
      "CLNDN               65188 non-null object\n",
      "CLNHGVS             65188 non-null object\n",
      "CLNVC               65188 non-null object\n",
      "CLNVI               27659 non-null object\n",
      "MC                  64342 non-null object\n",
      "ORIGIN              65188 non-null int64\n",
      "CLASS               65188 non-null int64\n",
      "Allele              65188 non-null object\n",
      "Consequence         65188 non-null object\n",
      "IMPACT              65188 non-null object\n",
      "SYMBOL              65172 non-null object\n",
      "Feature_type        65174 non-null object\n",
      "Feature             65174 non-null object\n",
      "BIOTYPE             65172 non-null object\n",
      "EXON                65055 non-null float64\n",
      "Protein_position    55233 non-null float64\n",
      "Amino_acids         55184 non-null object\n",
      "Codons              55184 non-null object\n",
      "STRAND              65174 non-null float64\n",
      "BAM_EDIT            31969 non-null object\n",
      "SIFT                24836 non-null object\n",
      "PolyPhen            24796 non-null object\n",
      "LoFtool             60975 non-null float64\n",
      "CADD_PHRED          64096 non-null float64\n",
      "CADD_RAW            64096 non-null float64\n",
      "BLOSUM62            25593 non-null float64\n",
      "dtypes: float64(10), int64(4), object(22)\n",
      "memory usage: 17.9+ MB\n"
     ]
    }
   ],
   "source": [
    "df.info()"
   ]
  },
  {
   "cell_type": "code",
   "execution_count": 10,
   "metadata": {},
   "outputs": [],
   "source": [
    "df.fillna(df[['BLOSUM62','CADD_RAW','CADD_PHRED','LoFtool','STRAND','Protein_position','EXON','CLASS','ORIGIN','AF_TGP','AF_EXAC','AF_ESP','POS','Unnamed: 0']].mean(),inplace=True)\n",
    "df.fillna(method='ffill',inplace=True)"
   ]
  },
  {
   "cell_type": "code",
   "execution_count": 11,
   "metadata": {},
   "outputs": [
    {
     "data": {
      "text/plain": [
       "Unnamed: 0          False\n",
       "KEY                 False\n",
       "CHROM               False\n",
       "POS                 False\n",
       "REF                 False\n",
       "ALT                 False\n",
       "AF_ESP              False\n",
       "AF_EXAC             False\n",
       "AF_TGP              False\n",
       "CLNDISDB            False\n",
       "CLNDN               False\n",
       "CLNHGVS             False\n",
       "CLNVC               False\n",
       "CLNVI               False\n",
       "MC                  False\n",
       "ORIGIN              False\n",
       "CLASS               False\n",
       "Allele              False\n",
       "Consequence         False\n",
       "IMPACT              False\n",
       "SYMBOL              False\n",
       "Feature_type        False\n",
       "Feature             False\n",
       "BIOTYPE             False\n",
       "EXON                False\n",
       "Protein_position    False\n",
       "Amino_acids         False\n",
       "Codons              False\n",
       "STRAND              False\n",
       "BAM_EDIT             True\n",
       "SIFT                False\n",
       "PolyPhen            False\n",
       "LoFtool             False\n",
       "CADD_PHRED          False\n",
       "CADD_RAW            False\n",
       "BLOSUM62            False\n",
       "dtype: bool"
      ]
     },
     "execution_count": 11,
     "metadata": {},
     "output_type": "execute_result"
    }
   ],
   "source": [
    "df.isnull().any()"
   ]
  },
  {
   "cell_type": "code",
   "execution_count": 12,
   "metadata": {},
   "outputs": [],
   "source": [
    "df.to_csv('data1.csv')"
   ]
  },
  {
   "cell_type": "code",
   "execution_count": 13,
   "metadata": {},
   "outputs": [
    {
     "data": {
      "text/plain": [
       "2     8166\n",
       "17    4918\n",
       "11    4719\n",
       "1     4454\n",
       "5     3643\n",
       "16    3586\n",
       "19    3513\n",
       "7     2867\n",
       "9     2744\n",
       "13    2515\n",
       "12    2447\n",
       "10    2341\n",
       "6     2159\n",
       "X     1926\n",
       "8     1852\n",
       "14    1755\n",
       "3     1579\n",
       "15    1557\n",
       "4     1206\n",
       "22    1043\n",
       "3      950\n",
       "18     785\n",
       "21     724\n",
       "20     682\n",
       "2      479\n",
       "17     476\n",
       "19     398\n",
       "16     341\n",
       "12     303\n",
       "14     219\n",
       "15     168\n",
       "13     131\n",
       "11     127\n",
       "21     119\n",
       "18     111\n",
       "22      92\n",
       "20      77\n",
       "MT      16\n",
       "Name: CHROM, dtype: int64"
      ]
     },
     "execution_count": 13,
     "metadata": {},
     "output_type": "execute_result"
    }
   ],
   "source": [
    "df.CHROM.value_counts()"
   ]
  },
  {
   "cell_type": "code",
   "execution_count": 14,
   "metadata": {},
   "outputs": [
    {
     "data": {
      "text/plain": [
       "0        1\n",
       "1        1\n",
       "2        1\n",
       "3        1\n",
       "4        1\n",
       "        ..\n",
       "65183    2\n",
       "65184    2\n",
       "65185    2\n",
       "65186    2\n",
       "65187    2\n",
       "Name: CHROM, Length: 65188, dtype: int32"
      ]
     },
     "execution_count": 14,
     "metadata": {},
     "output_type": "execute_result"
    }
   ],
   "source": [
    "df.CHROM = df.CHROM.replace('MT',2).replace('X',2)\n",
    "df.CHROM.astype('int')"
   ]
  },
  {
   "cell_type": "code",
   "execution_count": 15,
   "metadata": {},
   "outputs": [
    {
     "name": "stdout",
     "output_type": "stream",
     "text": [
      "<class 'pandas.core.frame.DataFrame'>\n",
      "RangeIndex: 65188 entries, 0 to 65187\n",
      "Data columns (total 36 columns):\n",
      "Unnamed: 0          65188 non-null int64\n",
      "KEY                 65188 non-null object\n",
      "CHROM               65188 non-null object\n",
      "POS                 65188 non-null int64\n",
      "REF                 65188 non-null object\n",
      "ALT                 65188 non-null object\n",
      "AF_ESP              65188 non-null float64\n",
      "AF_EXAC             65188 non-null float64\n",
      "AF_TGP              65188 non-null float64\n",
      "CLNDISDB            65188 non-null object\n",
      "CLNDN               65188 non-null object\n",
      "CLNHGVS             65188 non-null object\n",
      "CLNVC               65188 non-null object\n",
      "CLNVI               65188 non-null object\n",
      "MC                  65188 non-null object\n",
      "ORIGIN              65188 non-null int64\n",
      "CLASS               65188 non-null int64\n",
      "Allele              65188 non-null object\n",
      "Consequence         65188 non-null object\n",
      "IMPACT              65188 non-null object\n",
      "SYMBOL              65188 non-null object\n",
      "Feature_type        65188 non-null object\n",
      "Feature             65188 non-null object\n",
      "BIOTYPE             65188 non-null object\n",
      "EXON                65188 non-null float64\n",
      "Protein_position    65188 non-null float64\n",
      "Amino_acids         65188 non-null object\n",
      "Codons              65188 non-null object\n",
      "STRAND              65188 non-null float64\n",
      "BAM_EDIT            65187 non-null object\n",
      "SIFT                65188 non-null object\n",
      "PolyPhen            65188 non-null object\n",
      "LoFtool             65188 non-null float64\n",
      "CADD_PHRED          65188 non-null float64\n",
      "CADD_RAW            65188 non-null float64\n",
      "BLOSUM62            65188 non-null float64\n",
      "dtypes: float64(10), int64(4), object(22)\n",
      "memory usage: 17.9+ MB\n"
     ]
    }
   ],
   "source": [
    "df.info()"
   ]
  },
  {
   "cell_type": "code",
   "execution_count": 17,
   "metadata": {},
   "outputs": [],
   "source": [
    "import pandas as pd\n",
    "import matplotlib.pyplot as plt\n",
    "\n",
    "def xxt(data):\n",
    "    # 导入数据\n",
    "    # 绘制箱线图（3倍的四分位差,只需调整whis参数）\n",
    "    plt.boxplot(x = data, # 指定绘制箱线图的数据\n",
    "             whis = 3, # 指定3倍的四分位差\n",
    "             widths = 0.7, # 指定箱线图的宽度为0.8\n",
    "             patch_artist = True, # 指定需要填充箱体颜色\n",
    "             showmeans = True, # 指定需要显示均值\n",
    "             boxprops = {'facecolor':'steelblue'}, # 指定箱体的填充色为铁蓝色\n",
    "            # 指定异常点的填充色、边框色和大小\n",
    "             flierprops = {'markerfacecolor':'red', 'markeredgecolor':'red', 'markersize':4}, \n",
    "             # 指定均值点的标记符号（菱形）、填充色和大小\n",
    "            meanprops = {'marker':'D','markerfacecolor':'black', 'markersize':4}, \n",
    "             medianprops = {'linestyle':'--','color':'orange'}, # 指定中位数的标记符号（虚线）和颜色\n",
    "             labels = [''] # 去除箱线图的x轴刻度值\n",
    "             )\n",
    "    # 显示图形\n",
    "    plt.show()"
   ]
  },
  {
   "cell_type": "code",
   "execution_count": 18,
   "metadata": {},
   "outputs": [],
   "source": [
    "def xzycd(dataframe):\n",
    "    # 计算下四分位数和上四分位\n",
    "    Q1 = dataframe.quantile(q = 0.25)\n",
    "    Q3 = dataframe.quantile(q = 0.75)\n",
    "\n",
    "    # 基于1.5倍的四分位差计算上下须对应的值\n",
    "    low_whisker = Q1 - 1.5*(Q3 - Q1)\n",
    "    up_whisker = Q3 + 1.5*(Q3 - Q1)\n",
    "    # 寻找异常点\n",
    "    a = dataframe.values[(dataframe.values > up_whisker) | (dataframe.values < low_whisker)]\n",
    "    maxf = dataframe.value_counts().index[0]\n",
    "    dataframe1 = dataframe.replace(to_replace=a,value=maxf)\n",
    "    return dataframe1\n",
    "#     def yczth(x):\n",
    "#         for i in a:\n",
    "#             if int(x) == int(i):\n",
    "#                 return maxf\n",
    "#         return x\n",
    "#     dataframe = dataframe.apply(yczth)\n",
    "#     return dataframe\n"
   ]
  },
  {
   "cell_type": "code",
   "execution_count": 19,
   "metadata": {},
   "outputs": [
    {
     "data": {
      "image/png": "[encoded data removed]",
      "text/plain": [
       "<Figure size 432x288 with 1 Axes>"
      ]
     },
     "metadata": {
      "needs_background": "light"
     },
     "output_type": "display_data"
    }
   ],
   "source": [
    "xxt(df.POS.values)"
   ]
  },
  {
   "cell_type": "code",
   "execution_count": 20,
   "metadata": {},
   "outputs": [
    {
     "data": {
      "image/png": "[encoded data removed]",
      "text/plain": [
       "<Figure size 432x288 with 1 Axes>"
      ]
     },
     "metadata": {
      "needs_background": "light"
     },
     "output_type": "display_data"
    }
   ],
   "source": [
    "xxt(df.AF_ESP.values)"
   ]
  },
  {
   "cell_type": "code",
   "execution_count": 21,
   "metadata": {},
   "outputs": [
    {
     "data": {
      "image/png": "[encoded data removed]",
      "text/plain": [
       "<Figure size 432x288 with 1 Axes>"
      ]
     },
     "metadata": {
      "needs_background": "light"
     },
     "output_type": "display_data"
    }
   ],
   "source": [
    "df.AF_ESP = xzycd(df.AF_ESP)\n",
    "xxt(df.AF_ESP.values)"
   ]
  },
  {
   "cell_type": "code",
   "execution_count": 22,
   "metadata": {},
   "outputs": [
    {
     "data": {
      "image/png": "[encoded data removed]",
      "text/plain": [
       "<Figure size 432x288 with 1 Axes>"
      ]
     },
     "metadata": {
      "needs_background": "light"
     },
     "output_type": "display_data"
    }
   ],
   "source": [
    "df.AF_ESP = xzycd(df.AF_ESP)\n",
    "xxt(df.AF_ESP.values)"
   ]
  },
  {
   "cell_type": "code",
   "execution_count": 23,
   "metadata": {},
   "outputs": [
    {
     "data": {
      "image/png": "[encoded data removed]",
      "text/plain": [
       "<Figure size 432x288 with 1 Axes>"
      ]
     },
     "metadata": {
      "needs_background": "light"
     },
     "output_type": "display_data"
    }
   ],
   "source": [
    "df.AF_ESP = xzycd(df.AF_ESP)\n",
    "xxt(df.AF_ESP.values)"
   ]
  },
  {
   "cell_type": "code",
   "execution_count": 24,
   "metadata": {},
   "outputs": [
    {
     "data": {
      "image/png": "[encoded data removed]",
      "text/plain": [
       "<Figure size 432x288 with 1 Axes>"
      ]
     },
     "metadata": {
      "needs_background": "light"
     },
     "output_type": "display_data"
    }
   ],
   "source": [
    "xxt(df.AF_EXAC.values)"
   ]
  },
  {
   "cell_type": "code",
   "execution_count": 25,
   "metadata": {},
   "outputs": [
    {
     "data": {
      "image/png": "[encoded data removed]",
      "text/plain": [
       "<Figure size 432x288 with 1 Axes>"
      ]
     },
     "metadata": {
      "needs_background": "light"
     },
     "output_type": "display_data"
    }
   ],
   "source": [
    "df.AF_EXAC = xzycd(df.AF_EXAC)\n",
    "xxt(df.AF_EXAC.values)"
   ]
  },
  {
   "cell_type": "code",
   "execution_count": 26,
   "metadata": {},
   "outputs": [
    {
     "data": {
      "image/png": "[encoded data removed]",
      "text/plain": [
       "<Figure size 432x288 with 1 Axes>"
      ]
     },
     "metadata": {
      "needs_background": "light"
     },
     "output_type": "display_data"
    }
   ],
   "source": [
    "df.AF_EXAC = xzycd(df.AF_EXAC)\n",
    "xxt(df.AF_EXAC.values)"
   ]
  },
  {
   "cell_type": "code",
   "execution_count": 27,
   "metadata": {},
   "outputs": [
    {
     "data": {
      "image/png": "[encoded data removed]",
      "text/plain": [
       "<Figure size 432x288 with 1 Axes>"
      ]
     },
     "metadata": {
      "needs_background": "light"
     },
     "output_type": "display_data"
    }
   ],
   "source": [
    "df.AF_EXAC = xzycd(df.AF_EXAC)\n",
    "xxt(df.AF_EXAC.values)"
   ]
  },
  {
   "cell_type": "code",
   "execution_count": 28,
   "metadata": {},
   "outputs": [
    {
     "data": {
      "image/png": "[encoded data removed]",
      "text/plain": [
       "<Figure size 432x288 with 1 Axes>"
      ]
     },
     "metadata": {
      "needs_background": "light"
     },
     "output_type": "display_data"
    }
   ],
   "source": [
    "df.AF_EXAC = xzycd(df.AF_EXAC)\n",
    "xxt(df.AF_EXAC.values)"
   ]
  },
  {
   "cell_type": "code",
   "execution_count": 29,
   "metadata": {},
   "outputs": [
    {
     "data": {
      "image/png": "[encoded data removed]",
      "text/plain": [
       "<Figure size 432x288 with 1 Axes>"
      ]
     },
     "metadata": {
      "needs_background": "light"
     },
     "output_type": "display_data"
    }
   ],
   "source": [
    "xxt(df.AF_TGP.values)"
   ]
  },
  {
   "cell_type": "code",
   "execution_count": 30,
   "metadata": {},
   "outputs": [
    {
     "data": {
      "image/png": "[encoded data removed]",
      "text/plain": [
       "<Figure size 432x288 with 1 Axes>"
      ]
     },
     "metadata": {
      "needs_background": "light"
     },
     "output_type": "display_data"
    }
   ],
   "source": [
    "df.AF_TGP = xzycd(df.AF_TGP)\n",
    "xxt(df.AF_TGP.values)"
   ]
  },
  {
   "cell_type": "code",
   "execution_count": 31,
   "metadata": {},
   "outputs": [
    {
     "data": {
      "image/png": "[encoded data removed]",
      "text/plain": [
       "<Figure size 432x288 with 1 Axes>"
      ]
     },
     "metadata": {
      "needs_background": "light"
     },
     "output_type": "display_data"
    }
   ],
   "source": [
    "df.AF_EXAC = xzycd(df.AF_EXAC)\n",
    "xxt(df.AF_EXAC.values)"
   ]
  },
  {
   "cell_type": "code",
   "execution_count": 32,
   "metadata": {},
   "outputs": [
    {
     "data": {
      "image/png": "[encoded data removed]",
      "text/plain": [
       "<Figure size 432x288 with 1 Axes>"
      ]
     },
     "metadata": {
      "needs_background": "light"
     },
     "output_type": "display_data"
    }
   ],
   "source": [
    "xxt(df.ORIGIN.values)"
   ]
  },
  {
   "cell_type": "code",
   "execution_count": 33,
   "metadata": {},
   "outputs": [
    {
     "data": {
      "image/png": "[encoded data removed]",
      "text/plain": [
       "<Figure size 432x288 with 1 Axes>"
      ]
     },
     "metadata": {
      "needs_background": "light"
     },
     "output_type": "display_data"
    }
   ],
   "source": [
    "df.ORIGIN = xzycd(df.ORIGIN)\n",
    "xxt(df.ORIGIN.values)"
   ]
  },
  {
   "cell_type": "code",
   "execution_count": 34,
   "metadata": {},
   "outputs": [
    {
     "data": {
      "image/png": "[encoded data removed]",
      "text/plain": [
       "<Figure size 432x288 with 1 Axes>"
      ]
     },
     "metadata": {
      "needs_background": "light"
     },
     "output_type": "display_data"
    }
   ],
   "source": [
    "xxt(df.CLASS.values)"
   ]
  },
  {
   "cell_type": "code",
   "execution_count": 35,
   "metadata": {},
   "outputs": [
    {
     "data": {
      "image/png": "[encoded data removed]",
      "text/plain": [
       "<Figure size 432x288 with 1 Axes>"
      ]
     },
     "metadata": {
      "needs_background": "light"
     },
     "output_type": "display_data"
    }
   ],
   "source": [
    "xxt(df.EXON.values)"
   ]
  },
  {
   "cell_type": "code",
   "execution_count": 36,
   "metadata": {},
   "outputs": [
    {
     "data": {
      "image/png": "[encoded data removed]",
      "text/plain": [
       "<Figure size 432x288 with 1 Axes>"
      ]
     },
     "metadata": {
      "needs_background": "light"
     },
     "output_type": "display_data"
    }
   ],
   "source": [
    "xxt(df.Protein_position.values)"
   ]
  },
  {
   "cell_type": "code",
   "execution_count": 37,
   "metadata": {},
   "outputs": [
    {
     "data": {
      "image/png": "[encoded data removed]",
      "text/plain": [
       "<Figure size 432x288 with 1 Axes>"
      ]
     },
     "metadata": {
      "needs_background": "light"
     },
     "output_type": "display_data"
    }
   ],
   "source": [
    "df.Protein_position = xzycd(df.Protein_position)\n",
    "xxt(df.Protein_position.values)"
   ]
  },
  {
   "cell_type": "code",
   "execution_count": 38,
   "metadata": {},
   "outputs": [
    {
     "data": {
      "image/png": "[encoded data removed]",
      "text/plain": [
       "<Figure size 432x288 with 1 Axes>"
      ]
     },
     "metadata": {
      "needs_background": "light"
     },
     "output_type": "display_data"
    }
   ],
   "source": [
    "xxt(df.STRAND.values)"
   ]
  },
  {
   "cell_type": "code",
   "execution_count": 39,
   "metadata": {},
   "outputs": [
    {
     "data": {
      "image/png": "[encoded data removed]",
      "text/plain": [
       "<Figure size 432x288 with 1 Axes>"
      ]
     },
     "metadata": {
      "needs_background": "light"
     },
     "output_type": "display_data"
    }
   ],
   "source": [
    "xxt(df.LoFtool.values)"
   ]
  },
  {
   "cell_type": "code",
   "execution_count": 40,
   "metadata": {},
   "outputs": [
    {
     "data": {
      "image/png": "[encoded data removed]",
      "text/plain": [
       "<Figure size 432x288 with 1 Axes>"
      ]
     },
     "metadata": {
      "needs_background": "light"
     },
     "output_type": "display_data"
    }
   ],
   "source": [
    "xxt(df.CADD_PHRED.values)"
   ]
  },
  {
   "cell_type": "code",
   "execution_count": 41,
   "metadata": {},
   "outputs": [
    {
     "data": {
      "image/png": "[encoded data removed]",
      "text/plain": [
       "<Figure size 432x288 with 1 Axes>"
      ]
     },
     "metadata": {
      "needs_background": "light"
     },
     "output_type": "display_data"
    }
   ],
   "source": [
    "df.CADD_PHRED = xzycd(df.CADD_PHRED)\n",
    "xxt(df.CADD_PHRED.values)"
   ]
  },
  {
   "cell_type": "code",
   "execution_count": 42,
   "metadata": {},
   "outputs": [
    {
     "data": {
      "image/png": "[encoded data removed]",
      "text/plain": [
       "<Figure size 432x288 with 1 Axes>"
      ]
     },
     "metadata": {
      "needs_background": "light"
     },
     "output_type": "display_data"
    }
   ],
   "source": [
    "xxt(df.CADD_RAW.values)"
   ]
  },
  {
   "cell_type": "code",
   "execution_count": 43,
   "metadata": {},
   "outputs": [
    {
     "data": {
      "image/png": "[encoded data removed]",
      "text/plain": [
       "<Figure size 432x288 with 1 Axes>"
      ]
     },
     "metadata": {
      "needs_background": "light"
     },
     "output_type": "display_data"
    }
   ],
   "source": [
    "df.CADD_RAW = xzycd(df.CADD_RAW)\n",
    "xxt(df.CADD_RAW.values)"
   ]
  },
  {
   "cell_type": "code",
   "execution_count": 44,
   "metadata": {},
   "outputs": [
    {
     "data": {
      "image/png": "[encoded data removed]",
      "text/plain": [
       "<Figure size 432x288 with 1 Axes>"
      ]
     },
     "metadata": {
      "needs_background": "light"
     },
     "output_type": "display_data"
    }
   ],
   "source": [
    "xxt(df.BLOSUM62.values)"
   ]
  },
  {
   "cell_type": "code",
   "execution_count": 45,
   "metadata": {},
   "outputs": [
    {
     "data": {
      "image/png": "[encoded data removed]",
      "text/plain": [
       "<Figure size 432x288 with 1 Axes>"
      ]
     },
     "metadata": {
      "needs_background": "light"
     },
     "output_type": "display_data"
    }
   ],
   "source": [
    "df.BLOSUM62 = xzycd(df.BLOSUM62)\n",
    "xxt(df.BLOSUM62.values)"
   ]
  },
  {
   "cell_type": "code",
   "execution_count": 46,
   "metadata": {},
   "outputs": [],
   "source": [
    "df.to_csv('data2.csv')"
   ]
  },
  {
   "cell_type": "code",
   "execution_count": 47,
   "metadata": {},
   "outputs": [
    {
     "name": "stdout",
     "output_type": "stream",
     "text": [
      "<class 'pandas.core.frame.DataFrame'>\n",
      "RangeIndex: 65188 entries, 0 to 65187\n",
      "Data columns (total 36 columns):\n",
      "Unnamed: 0          65188 non-null int64\n",
      "KEY                 65188 non-null object\n",
      "CHROM               65188 non-null object\n",
      "POS                 65188 non-null int64\n",
      "REF                 65188 non-null object\n",
      "ALT                 65188 non-null object\n",
      "AF_ESP              65188 non-null float64\n",
      "AF_EXAC             65188 non-null float64\n",
      "AF_TGP              65188 non-null float64\n",
      "CLNDISDB            65188 non-null object\n",
      "CLNDN               65188 non-null object\n",
      "CLNHGVS             65188 non-null object\n",
      "CLNVC               65188 non-null object\n",
      "CLNVI               65188 non-null object\n",
      "MC                  65188 non-null object\n",
      "ORIGIN              65188 non-null int64\n",
      "CLASS               65188 non-null int64\n",
      "Allele              65188 non-null object\n",
      "Consequence         65188 non-null object\n",
      "IMPACT              65188 non-null object\n",
      "SYMBOL              65188 non-null object\n",
      "Feature_type        65188 non-null object\n",
      "Feature             65188 non-null object\n",
      "BIOTYPE             65188 non-null object\n",
      "EXON                65188 non-null float64\n",
      "Protein_position    65188 non-null float64\n",
      "Amino_acids         65188 non-null object\n",
      "Codons              65188 non-null object\n",
      "STRAND              65188 non-null float64\n",
      "BAM_EDIT            65187 non-null object\n",
      "SIFT                65188 non-null object\n",
      "PolyPhen            65188 non-null object\n",
      "LoFtool             65188 non-null float64\n",
      "CADD_PHRED          65188 non-null float64\n",
      "CADD_RAW            65188 non-null float64\n",
      "BLOSUM62            65188 non-null float64\n",
      "dtypes: float64(10), int64(4), object(22)\n",
      "memory usage: 17.9+ MB\n"
     ]
    }
   ],
   "source": [
    "df.info()"
   ]
  },
  {
   "cell_type": "code",
   "execution_count": 48,
   "metadata": {},
   "outputs": [],
   "source": [
    "df.CHROM= df.CHROM.astype('int')"
   ]
  },
  {
   "cell_type": "code",
   "execution_count": 49,
   "metadata": {},
   "outputs": [
    {
     "name": "stdout",
     "output_type": "stream",
     "text": [
      "<class 'pandas.core.frame.DataFrame'>\n",
      "RangeIndex: 65188 entries, 0 to 65187\n",
      "Data columns (total 36 columns):\n",
      "Unnamed: 0          65188 non-null int64\n",
      "KEY                 65188 non-null object\n",
      "CHROM               65188 non-null int32\n",
      "POS                 65188 non-null int64\n",
      "REF                 65188 non-null object\n",
      "ALT                 65188 non-null object\n",
      "AF_ESP              65188 non-null float64\n",
      "AF_EXAC             65188 non-null float64\n",
      "AF_TGP              65188 non-null float64\n",
      "CLNDISDB            65188 non-null object\n",
      "CLNDN               65188 non-null object\n",
      "CLNHGVS             65188 non-null object\n",
      "CLNVC               65188 non-null object\n",
      "CLNVI               65188 non-null object\n",
      "MC                  65188 non-null object\n",
      "ORIGIN              65188 non-null int64\n",
      "CLASS               65188 non-null int64\n",
      "Allele              65188 non-null object\n",
      "Consequence         65188 non-null object\n",
      "IMPACT              65188 non-null object\n",
      "SYMBOL              65188 non-null object\n",
      "Feature_type        65188 non-null object\n",
      "Feature             65188 non-null object\n",
      "BIOTYPE             65188 non-null object\n",
      "EXON                65188 non-null float64\n",
      "Protein_position    65188 non-null float64\n",
      "Amino_acids         65188 non-null object\n",
      "Codons              65188 non-null object\n",
      "STRAND              65188 non-null float64\n",
      "BAM_EDIT            65187 non-null object\n",
      "SIFT                65188 non-null object\n",
      "PolyPhen            65188 non-null object\n",
      "LoFtool             65188 non-null float64\n",
      "CADD_PHRED          65188 non-null float64\n",
      "CADD_RAW            65188 non-null float64\n",
      "BLOSUM62            65188 non-null float64\n",
      "dtypes: float64(10), int32(1), int64(4), object(21)\n",
      "memory usage: 17.7+ MB\n"
     ]
    }
   ],
   "source": [
    "df.info()"
   ]
  },
  {
   "cell_type": "code",
   "execution_count": 51,
   "metadata": {},
   "outputs": [
    {
     "data": {
      "text/html": [
       "<div>\n",
       "<style scoped>\n",
       "    .dataframe tbody tr th:only-of-type {\n",
       "        vertical-align: middle;\n",
       "    }\n",
       "\n",
       "    .dataframe tbody tr th {\n",
       "        vertical-align: top;\n",
       "    }\n",
       "\n",
       "    .dataframe thead th {\n",
       "        text-align: right;\n",
       "    }\n",
       "</style>\n",
       "<table border=\"1\" class=\"dataframe\">\n",
       "  <thead>\n",
       "    <tr style=\"text-align: right;\">\n",
       "      <th></th>\n",
       "      <th>Unnamed: 0</th>\n",
       "      <th>KEY</th>\n",
       "      <th>CHROM</th>\n",
       "      <th>POS</th>\n",
       "      <th>REF</th>\n",
       "      <th>ALT</th>\n",
       "      <th>AF_ESP</th>\n",
       "      <th>AF_EXAC</th>\n",
       "      <th>AF_TGP</th>\n",
       "      <th>CLNDISDB</th>\n",
       "      <th>...</th>\n",
       "      <th>Amino_acids</th>\n",
       "      <th>Codons</th>\n",
       "      <th>STRAND</th>\n",
       "      <th>BAM_EDIT</th>\n",
       "      <th>SIFT</th>\n",
       "      <th>PolyPhen</th>\n",
       "      <th>LoFtool</th>\n",
       "      <th>CADD_PHRED</th>\n",
       "      <th>CADD_RAW</th>\n",
       "      <th>BLOSUM62</th>\n",
       "    </tr>\n",
       "  </thead>\n",
       "  <tbody>\n",
       "    <tr>\n",
       "      <td>0</td>\n",
       "      <td>0</td>\n",
       "      <td>NC_000001.10:g.1168180G&gt;C</td>\n",
       "      <td>1</td>\n",
       "      <td>1168180</td>\n",
       "      <td>G</td>\n",
       "      <td>C</td>\n",
       "      <td>0.0</td>\n",
       "      <td>0.0</td>\n",
       "      <td>0.0000</td>\n",
       "      <td>MedGen:CN169374</td>\n",
       "      <td>...</td>\n",
       "      <td>E/D</td>\n",
       "      <td>gaG/gaC</td>\n",
       "      <td>1.0</td>\n",
       "      <td>NaN</td>\n",
       "      <td>tolerated</td>\n",
       "      <td>benign</td>\n",
       "      <td>0.345058</td>\n",
       "      <td>1.053</td>\n",
       "      <td>-0.208682</td>\n",
       "      <td>-0.402258</td>\n",
       "    </tr>\n",
       "    <tr>\n",
       "      <td>1</td>\n",
       "      <td>1</td>\n",
       "      <td>NC_000001.10:g.1470752G&gt;A</td>\n",
       "      <td>1</td>\n",
       "      <td>1470752</td>\n",
       "      <td>G</td>\n",
       "      <td>A</td>\n",
       "      <td>0.0</td>\n",
       "      <td>0.0</td>\n",
       "      <td>0.0000</td>\n",
       "      <td>MedGen:C1843891,OMIM:607454,Orphanet:ORPHA9877...</td>\n",
       "      <td>...</td>\n",
       "      <td>P/L</td>\n",
       "      <td>cCg/cTg</td>\n",
       "      <td>-1.0</td>\n",
       "      <td>OK</td>\n",
       "      <td>deleterious_low_confidence</td>\n",
       "      <td>benign</td>\n",
       "      <td>0.345058</td>\n",
       "      <td>31.000</td>\n",
       "      <td>6.517838</td>\n",
       "      <td>-0.402258</td>\n",
       "    </tr>\n",
       "    <tr>\n",
       "      <td>2</td>\n",
       "      <td>2</td>\n",
       "      <td>NC_000001.10:g.1737942A&gt;G</td>\n",
       "      <td>1</td>\n",
       "      <td>1737942</td>\n",
       "      <td>A</td>\n",
       "      <td>G</td>\n",
       "      <td>0.0</td>\n",
       "      <td>0.0</td>\n",
       "      <td>0.0000</td>\n",
       "      <td>Human_Phenotype_Ontology:HP:0000486,MedGen:C00...</td>\n",
       "      <td>...</td>\n",
       "      <td>I/T</td>\n",
       "      <td>aTc/aCc</td>\n",
       "      <td>-1.0</td>\n",
       "      <td>OK</td>\n",
       "      <td>deleterious</td>\n",
       "      <td>probably_damaging</td>\n",
       "      <td>0.345058</td>\n",
       "      <td>28.100</td>\n",
       "      <td>6.061752</td>\n",
       "      <td>-0.402258</td>\n",
       "    </tr>\n",
       "    <tr>\n",
       "      <td>3</td>\n",
       "      <td>3</td>\n",
       "      <td>NC_000001.10:g.2160305G&gt;A</td>\n",
       "      <td>1</td>\n",
       "      <td>2160305</td>\n",
       "      <td>G</td>\n",
       "      <td>A</td>\n",
       "      <td>0.0</td>\n",
       "      <td>0.0</td>\n",
       "      <td>0.0000</td>\n",
       "      <td>MedGen:C1321551,OMIM:182212,SNOMED_CT:83092002...</td>\n",
       "      <td>...</td>\n",
       "      <td>G/S</td>\n",
       "      <td>Ggc/Agc</td>\n",
       "      <td>1.0</td>\n",
       "      <td>OK</td>\n",
       "      <td>deleterious</td>\n",
       "      <td>probably_damaging</td>\n",
       "      <td>0.345058</td>\n",
       "      <td>22.500</td>\n",
       "      <td>3.114491</td>\n",
       "      <td>-0.402258</td>\n",
       "    </tr>\n",
       "    <tr>\n",
       "      <td>4</td>\n",
       "      <td>4</td>\n",
       "      <td>NC_000001.10:g.2160305G&gt;T</td>\n",
       "      <td>1</td>\n",
       "      <td>2160305</td>\n",
       "      <td>G</td>\n",
       "      <td>T</td>\n",
       "      <td>0.0</td>\n",
       "      <td>0.0</td>\n",
       "      <td>0.0000</td>\n",
       "      <td>MedGen:C1321551,OMIM:182212,SNOMED_CT:83092002</td>\n",
       "      <td>...</td>\n",
       "      <td>G/C</td>\n",
       "      <td>Ggc/Tgc</td>\n",
       "      <td>1.0</td>\n",
       "      <td>OK</td>\n",
       "      <td>deleterious</td>\n",
       "      <td>probably_damaging</td>\n",
       "      <td>0.345058</td>\n",
       "      <td>24.700</td>\n",
       "      <td>4.766224</td>\n",
       "      <td>-0.402258</td>\n",
       "    </tr>\n",
       "    <tr>\n",
       "      <td>...</td>\n",
       "      <td>...</td>\n",
       "      <td>...</td>\n",
       "      <td>...</td>\n",
       "      <td>...</td>\n",
       "      <td>...</td>\n",
       "      <td>...</td>\n",
       "      <td>...</td>\n",
       "      <td>...</td>\n",
       "      <td>...</td>\n",
       "      <td>...</td>\n",
       "      <td>...</td>\n",
       "      <td>...</td>\n",
       "      <td>...</td>\n",
       "      <td>...</td>\n",
       "      <td>...</td>\n",
       "      <td>...</td>\n",
       "      <td>...</td>\n",
       "      <td>...</td>\n",
       "      <td>...</td>\n",
       "      <td>...</td>\n",
       "      <td>...</td>\n",
       "    </tr>\n",
       "    <tr>\n",
       "      <td>65183</td>\n",
       "      <td>65183</td>\n",
       "      <td>NC_000023.10:g.154158201T&gt;G</td>\n",
       "      <td>2</td>\n",
       "      <td>154158201</td>\n",
       "      <td>T</td>\n",
       "      <td>G</td>\n",
       "      <td>0.0</td>\n",
       "      <td>0.0</td>\n",
       "      <td>0.0000</td>\n",
       "      <td>MedGen:C0019069,OMIM:306700,SNOMED_CT:28293008...</td>\n",
       "      <td>...</td>\n",
       "      <td>S</td>\n",
       "      <td>tcA/tcC</td>\n",
       "      <td>-1.0</td>\n",
       "      <td>OK</td>\n",
       "      <td>deleterious</td>\n",
       "      <td>benign</td>\n",
       "      <td>0.001580</td>\n",
       "      <td>0.105</td>\n",
       "      <td>-0.630908</td>\n",
       "      <td>-0.402258</td>\n",
       "    </tr>\n",
       "    <tr>\n",
       "      <td>65184</td>\n",
       "      <td>65184</td>\n",
       "      <td>NC_000023.10:g.154159118C&gt;T</td>\n",
       "      <td>2</td>\n",
       "      <td>154159118</td>\n",
       "      <td>C</td>\n",
       "      <td>T</td>\n",
       "      <td>0.0</td>\n",
       "      <td>0.0</td>\n",
       "      <td>0.0013</td>\n",
       "      <td>MedGen:CN169374|MedGen:CN239152</td>\n",
       "      <td>...</td>\n",
       "      <td>V/I</td>\n",
       "      <td>Gta/Ata</td>\n",
       "      <td>-1.0</td>\n",
       "      <td>OK</td>\n",
       "      <td>tolerated</td>\n",
       "      <td>benign</td>\n",
       "      <td>0.001580</td>\n",
       "      <td>0.002</td>\n",
       "      <td>-1.731470</td>\n",
       "      <td>-0.402258</td>\n",
       "    </tr>\n",
       "    <tr>\n",
       "      <td>65185</td>\n",
       "      <td>65185</td>\n",
       "      <td>NC_000023.10:g.154194886C&gt;T</td>\n",
       "      <td>2</td>\n",
       "      <td>154194886</td>\n",
       "      <td>C</td>\n",
       "      <td>T</td>\n",
       "      <td>0.0</td>\n",
       "      <td>0.0</td>\n",
       "      <td>0.0000</td>\n",
       "      <td>MedGen:CN169374|MedGen:CN239152</td>\n",
       "      <td>...</td>\n",
       "      <td>A</td>\n",
       "      <td>gcG/gcA</td>\n",
       "      <td>-1.0</td>\n",
       "      <td>OK</td>\n",
       "      <td>tolerated</td>\n",
       "      <td>benign</td>\n",
       "      <td>0.001580</td>\n",
       "      <td>12.850</td>\n",
       "      <td>1.412434</td>\n",
       "      <td>-0.402258</td>\n",
       "    </tr>\n",
       "    <tr>\n",
       "      <td>65186</td>\n",
       "      <td>65186</td>\n",
       "      <td>NC_000023.10:g.154490187T&gt;C</td>\n",
       "      <td>2</td>\n",
       "      <td>154490187</td>\n",
       "      <td>T</td>\n",
       "      <td>C</td>\n",
       "      <td>0.0</td>\n",
       "      <td>0.0</td>\n",
       "      <td>0.0000</td>\n",
       "      <td>MedGen:C3501611,Orphanet:ORPHA777|MedGen:CN169374</td>\n",
       "      <td>...</td>\n",
       "      <td>T</td>\n",
       "      <td>acA/acG</td>\n",
       "      <td>-1.0</td>\n",
       "      <td>OK</td>\n",
       "      <td>tolerated</td>\n",
       "      <td>benign</td>\n",
       "      <td>0.345058</td>\n",
       "      <td>0.130</td>\n",
       "      <td>-0.592415</td>\n",
       "      <td>-0.402258</td>\n",
       "    </tr>\n",
       "    <tr>\n",
       "      <td>65187</td>\n",
       "      <td>65187</td>\n",
       "      <td>NC_000023.10:g.154508542G&gt;C</td>\n",
       "      <td>2</td>\n",
       "      <td>154508542</td>\n",
       "      <td>G</td>\n",
       "      <td>C</td>\n",
       "      <td>0.0</td>\n",
       "      <td>0.0</td>\n",
       "      <td>0.0008</td>\n",
       "      <td>MedGen:CN169374|MedGen:CN517202</td>\n",
       "      <td>...</td>\n",
       "      <td>P/A</td>\n",
       "      <td>Cca/Gca</td>\n",
       "      <td>-1.0</td>\n",
       "      <td>OK</td>\n",
       "      <td>tolerated</td>\n",
       "      <td>benign</td>\n",
       "      <td>0.140000</td>\n",
       "      <td>0.046</td>\n",
       "      <td>-0.786513</td>\n",
       "      <td>-0.402258</td>\n",
       "    </tr>\n",
       "  </tbody>\n",
       "</table>\n",
       "<p>65188 rows × 36 columns</p>\n",
       "</div>"
      ],
      "text/plain": [
       "       Unnamed: 0                          KEY  CHROM        POS REF ALT  \\\n",
       "0               0    NC_000001.10:g.1168180G>C      1    1168180   G   C   \n",
       "1               1    NC_000001.10:g.1470752G>A      1    1470752   G   A   \n",
       "2               2    NC_000001.10:g.1737942A>G      1    1737942   A   G   \n",
       "3               3    NC_000001.10:g.2160305G>A      1    2160305   G   A   \n",
       "4               4    NC_000001.10:g.2160305G>T      1    2160305   G   T   \n",
       "...           ...                          ...    ...        ...  ..  ..   \n",
       "65183       65183  NC_000023.10:g.154158201T>G      2  154158201   T   G   \n",
       "65184       65184  NC_000023.10:g.154159118C>T      2  154159118   C   T   \n",
       "65185       65185  NC_000023.10:g.154194886C>T      2  154194886   C   T   \n",
       "65186       65186  NC_000023.10:g.154490187T>C      2  154490187   T   C   \n",
       "65187       65187  NC_000023.10:g.154508542G>C      2  154508542   G   C   \n",
       "\n",
       "       AF_ESP  AF_EXAC  AF_TGP  \\\n",
       "0         0.0      0.0  0.0000   \n",
       "1         0.0      0.0  0.0000   \n",
       "2         0.0      0.0  0.0000   \n",
       "3         0.0      0.0  0.0000   \n",
       "4         0.0      0.0  0.0000   \n",
       "...       ...      ...     ...   \n",
       "65183     0.0      0.0  0.0000   \n",
       "65184     0.0      0.0  0.0013   \n",
       "65185     0.0      0.0  0.0000   \n",
       "65186     0.0      0.0  0.0000   \n",
       "65187     0.0      0.0  0.0008   \n",
       "\n",
       "                                                CLNDISDB  ... Amino_acids  \\\n",
       "0                                        MedGen:CN169374  ...         E/D   \n",
       "1      MedGen:C1843891,OMIM:607454,Orphanet:ORPHA9877...  ...         P/L   \n",
       "2      Human_Phenotype_Ontology:HP:0000486,MedGen:C00...  ...         I/T   \n",
       "3      MedGen:C1321551,OMIM:182212,SNOMED_CT:83092002...  ...         G/S   \n",
       "4         MedGen:C1321551,OMIM:182212,SNOMED_CT:83092002  ...         G/C   \n",
       "...                                                  ...  ...         ...   \n",
       "65183  MedGen:C0019069,OMIM:306700,SNOMED_CT:28293008...  ...           S   \n",
       "65184                    MedGen:CN169374|MedGen:CN239152  ...         V/I   \n",
       "65185                    MedGen:CN169374|MedGen:CN239152  ...           A   \n",
       "65186  MedGen:C3501611,Orphanet:ORPHA777|MedGen:CN169374  ...           T   \n",
       "65187                    MedGen:CN169374|MedGen:CN517202  ...         P/A   \n",
       "\n",
       "        Codons STRAND BAM_EDIT                        SIFT           PolyPhen  \\\n",
       "0      gaG/gaC    1.0      NaN                   tolerated             benign   \n",
       "1      cCg/cTg   -1.0       OK  deleterious_low_confidence             benign   \n",
       "2      aTc/aCc   -1.0       OK                 deleterious  probably_damaging   \n",
       "3      Ggc/Agc    1.0       OK                 deleterious  probably_damaging   \n",
       "4      Ggc/Tgc    1.0       OK                 deleterious  probably_damaging   \n",
       "...        ...    ...      ...                         ...                ...   \n",
       "65183  tcA/tcC   -1.0       OK                 deleterious             benign   \n",
       "65184  Gta/Ata   -1.0       OK                   tolerated             benign   \n",
       "65185  gcG/gcA   -1.0       OK                   tolerated             benign   \n",
       "65186  acA/acG   -1.0       OK                   tolerated             benign   \n",
       "65187  Cca/Gca   -1.0       OK                   tolerated             benign   \n",
       "\n",
       "        LoFtool CADD_PHRED  CADD_RAW  BLOSUM62  \n",
       "0      0.345058      1.053 -0.208682 -0.402258  \n",
       "1      0.345058     31.000  6.517838 -0.402258  \n",
       "2      0.345058     28.100  6.061752 -0.402258  \n",
       "3      0.345058     22.500  3.114491 -0.402258  \n",
       "4      0.345058     24.700  4.766224 -0.402258  \n",
       "...         ...        ...       ...       ...  \n",
       "65183  0.001580      0.105 -0.630908 -0.402258  \n",
       "65184  0.001580      0.002 -1.731470 -0.402258  \n",
       "65185  0.001580     12.850  1.412434 -0.402258  \n",
       "65186  0.345058      0.130 -0.592415 -0.402258  \n",
       "65187  0.140000      0.046 -0.786513 -0.402258  \n",
       "\n",
       "[65188 rows x 36 columns]"
      ]
     },
     "execution_count": 51,
     "metadata": {},
     "output_type": "execute_result"
    }
   ],
   "source": [
    "df"
   ]
  },
  {
   "cell_type": "code",
   "execution_count": 52,
   "metadata": {},
   "outputs": [
    {
     "data": {
      "text/plain": [
       "0          326\n",
       "1          467\n",
       "2         1179\n",
       "3         1826\n",
       "4         1827\n",
       "         ...  \n",
       "65183    64090\n",
       "65184    64093\n",
       "65185    64096\n",
       "65186    64097\n",
       "65187    64098\n",
       "Name: KEY, Length: 65188, dtype: int32"
      ]
     },
     "execution_count": 52,
     "metadata": {},
     "output_type": "execute_result"
    }
   ],
   "source": [
    "from sklearn.preprocessing import OneHotEncoder, LabelEncoder\n",
    "import numpy as np\n",
    "import pandas as pd\n",
    " \n",
    "le = LabelEncoder()\n",
    "df['KEY'] = le.fit_transform(df['KEY'])"
   ]
  },
  {
   "cell_type": "code",
   "execution_count": 53,
   "metadata": {},
   "outputs": [],
   "source": [
    "df['REF'] = le.fit_transform(df['REF'])"
   ]
  },
  {
   "cell_type": "code",
   "execution_count": 54,
   "metadata": {},
   "outputs": [],
   "source": [
    "df['ALT'] = le.fit_transform(df['ALT'])"
   ]
  },
  {
   "cell_type": "code",
   "execution_count": 55,
   "metadata": {},
   "outputs": [],
   "source": [
    "df['CLNDISDB'] = le.fit_transform(df['CLNDISDB'])"
   ]
  },
  {
   "cell_type": "code",
   "execution_count": 56,
   "metadata": {},
   "outputs": [],
   "source": [
    "df['CLNDN'] = le.fit_transform(df['CLNDN'])"
   ]
  },
  {
   "cell_type": "code",
   "execution_count": 57,
   "metadata": {},
   "outputs": [],
   "source": [
    "df['CLNHGVS'] = le.fit_transform(df['CLNHGVS'])"
   ]
  },
  {
   "cell_type": "code",
   "execution_count": 58,
   "metadata": {},
   "outputs": [],
   "source": [
    "df['CLNVC'] = le.fit_transform(df['CLNVC'])"
   ]
  },
  {
   "cell_type": "code",
   "execution_count": 59,
   "metadata": {},
   "outputs": [],
   "source": [
    "df['CLNVI'] = le.fit_transform(df['CLNVI'])"
   ]
  },
  {
   "cell_type": "code",
   "execution_count": 60,
   "metadata": {},
   "outputs": [],
   "source": [
    "df['MC'] = le.fit_transform(df['MC'])"
   ]
  },
  {
   "cell_type": "code",
   "execution_count": 61,
   "metadata": {},
   "outputs": [],
   "source": [
    "df['Allele'] = le.fit_transform(df['Allele'])"
   ]
  },
  {
   "cell_type": "code",
   "execution_count": 62,
   "metadata": {},
   "outputs": [],
   "source": [
    "df['Consequence'] = le.fit_transform(df['Consequence'])"
   ]
  },
  {
   "cell_type": "code",
   "execution_count": 63,
   "metadata": {},
   "outputs": [],
   "source": [
    "df['IMPACT'] = le.fit_transform(df['IMPACT'])"
   ]
  },
  {
   "cell_type": "code",
   "execution_count": 64,
   "metadata": {},
   "outputs": [],
   "source": [
    "df['SYMBOL'] = le.fit_transform(df['SYMBOL'])"
   ]
  },
  {
   "cell_type": "code",
   "execution_count": 65,
   "metadata": {},
   "outputs": [],
   "source": [
    "df['Feature_type'] = le.fit_transform(df['Feature_type'])"
   ]
  },
  {
   "cell_type": "code",
   "execution_count": 66,
   "metadata": {},
   "outputs": [],
   "source": [
    "df['Feature'] = le.fit_transform(df['Feature'])"
   ]
  },
  {
   "cell_type": "code",
   "execution_count": 67,
   "metadata": {},
   "outputs": [],
   "source": [
    "df['BIOTYPE'] = le.fit_transform(df['BIOTYPE'])"
   ]
  },
  {
   "cell_type": "code",
   "execution_count": 68,
   "metadata": {},
   "outputs": [],
   "source": [
    "df['Amino_acids'] = le.fit_transform(df['Amino_acids'])"
   ]
  },
  {
   "cell_type": "code",
   "execution_count": 69,
   "metadata": {},
   "outputs": [],
   "source": [
    "df['Codons'] = le.fit_transform(df['Codons'])"
   ]
  },
  {
   "cell_type": "code",
   "execution_count": 71,
   "metadata": {},
   "outputs": [],
   "source": [
    "df['SIFT'] = le.fit_transform(df['SIFT'])"
   ]
  },
  {
   "cell_type": "code",
   "execution_count": 72,
   "metadata": {},
   "outputs": [],
   "source": [
    "df['PolyPhen'] = le.fit_transform(df['PolyPhen'])"
   ]
  },
  {
   "cell_type": "code",
   "execution_count": 77,
   "metadata": {},
   "outputs": [],
   "source": [
    "df['BAM_EDIT'] = df['BAM_EDIT'].fillna(method='bfill')\n",
    "df['BAM_EDIT'] = le.fit_transform(df['BAM_EDIT'])"
   ]
  },
  {
   "cell_type": "code",
   "execution_count": 78,
   "metadata": {},
   "outputs": [
    {
     "name": "stdout",
     "output_type": "stream",
     "text": [
      "<class 'pandas.core.frame.DataFrame'>\n",
      "RangeIndex: 65188 entries, 0 to 65187\n",
      "Data columns (total 36 columns):\n",
      "Unnamed: 0          65188 non-null int64\n",
      "KEY                 65188 non-null int32\n",
      "CHROM               65188 non-null int32\n",
      "POS                 65188 non-null int64\n",
      "REF                 65188 non-null int32\n",
      "ALT                 65188 non-null int32\n",
      "AF_ESP              65188 non-null float64\n",
      "AF_EXAC             65188 non-null float64\n",
      "AF_TGP              65188 non-null float64\n",
      "CLNDISDB            65188 non-null int32\n",
      "CLNDN               65188 non-null int32\n",
      "CLNHGVS             65188 non-null int32\n",
      "CLNVC               65188 non-null int32\n",
      "CLNVI               65188 non-null int32\n",
      "MC                  65188 non-null int32\n",
      "ORIGIN              65188 non-null int64\n",
      "CLASS               65188 non-null int64\n",
      "Allele              65188 non-null int32\n",
      "Consequence         65188 non-null int32\n",
      "IMPACT              65188 non-null int32\n",
      "SYMBOL              65188 non-null int32\n",
      "Feature_type        65188 non-null int32\n",
      "Feature             65188 non-null int32\n",
      "BIOTYPE             65188 non-null int32\n",
      "EXON                65188 non-null float64\n",
      "Protein_position    65188 non-null float64\n",
      "Amino_acids         65188 non-null int32\n",
      "Codons              65188 non-null int32\n",
      "STRAND              65188 non-null float64\n",
      "BAM_EDIT            65188 non-null int32\n",
      "SIFT                65188 non-null int32\n",
      "PolyPhen            65188 non-null int32\n",
      "LoFtool             65188 non-null float64\n",
      "CADD_PHRED          65188 non-null float64\n",
      "CADD_RAW            65188 non-null float64\n",
      "BLOSUM62            65188 non-null float64\n",
      "dtypes: float64(10), int32(22), int64(4)\n",
      "memory usage: 12.4 MB\n"
     ]
    }
   ],
   "source": [
    "df.info()"
   ]
  },
  {
   "cell_type": "code",
   "execution_count": 80,
   "metadata": {},
   "outputs": [],
   "source": [
    "df.to_csv('data3.csv')"
   ]
  },
  {
   "cell_type": "code",
   "execution_count": null,
   "metadata": {},
   "outputs": [],
   "source": []
  }
 ],
 "metadata": {
  "kernelspec": {
   "display_name": "Python 3",
   "language": "python",
   "name": "python3"
  },
  "language_info": {
   "codemirror_mode": {
    "name": "ipython",
    "version": 3
   },
   "file_extension": ".py",
   "mimetype": "text/x-python",
   "name": "python",
   "nbconvert_exporter": "python",
   "pygments_lexer": "ipython3",
   "version": "3.7.4"
  }
 },
 "nbformat": 4,
 "nbformat_minor": 2
}
